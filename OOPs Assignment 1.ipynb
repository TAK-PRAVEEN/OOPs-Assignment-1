{
 "cells": [
  {
   "cell_type": "markdown",
   "id": "c4b1a814-7dfa-4df2-9955-7790d62ab13e",
   "metadata": {},
   "source": [
    "Problem 1: Bank Account Create a class representing a bank account with attributes like account number, account holder name, and balance. Implement methods to deposit and withdraw money from the account."
   ]
  },
  {
   "cell_type": "code",
   "execution_count": 1,
   "id": "d8c91cc8-bda2-4153-94d5-4303e4abdca3",
   "metadata": {},
   "outputs": [],
   "source": [
    "class BankAccount:\n",
    "    def __init__(self,account_number,holder_name,balance):\n",
    "        self.__account_number=account_number\n",
    "        self.holder_name=holder_name\n",
    "        self.__balance=balance\n",
    "    def deposit(self,amount):\n",
    "        if amount>0:\n",
    "            self.__balance+=amount\n",
    "            return f\"{amount} i deposited. Balance is {self.__balance}\"\n",
    "    def withdraw(self,amount):\n",
    "        if amount<=self.__balance:\n",
    "            self.__balance-=amount\n",
    "            return f\"{amount} is withdrawl, Balance is {self.__balance}\""
   ]
  },
  {
   "cell_type": "markdown",
   "id": "005994ce-9e58-4a2f-a705-8bd90984b7b5",
   "metadata": {},
   "source": [
    "Problem 2: Employee Management Create a class representing an employee with attributes like employee ID, name, and salary. Implement methods to calculate the yearly bonus and display employee details."
   ]
  },
  {
   "cell_type": "code",
   "execution_count": 2,
   "id": "d034c87b-825a-4a74-83ad-181b96633926",
   "metadata": {},
   "outputs": [],
   "source": [
    "class Employee:\n",
    "    def __init__(self,employee_id,name,salary):\n",
    "        self.employee_id=employee_id\n",
    "        self.name=name\n",
    "        self.salary=salary\n",
    "    def yearly_bonus(self,bonus):\n",
    "        total_salary=self.salary+bonus\n",
    "        self.salary=total_salary\n",
    "    def display_details(self):\n",
    "        total_salary=self.salary\n",
    "        return f\"Employee name:{self.name}, Employee ID:{self.employee_id}, Salary:{total_salary}\""
   ]
  },
  {
   "cell_type": "code",
   "execution_count": 3,
   "id": "5a000b30-3bc3-4138-9494-80e8bda706b0",
   "metadata": {},
   "outputs": [],
   "source": [
    "e=Employee(12,\"ABC\",12000)"
   ]
  },
  {
   "cell_type": "code",
   "execution_count": 4,
   "id": "5bdc92be-a770-481a-8321-f5e3a2e118f5",
   "metadata": {},
   "outputs": [],
   "source": [
    "e.yearly_bonus(1200)"
   ]
  },
  {
   "cell_type": "code",
   "execution_count": 5,
   "id": "643fad67-c7ca-4efc-859a-5f3d39cb2d42",
   "metadata": {},
   "outputs": [
    {
     "data": {
      "text/plain": [
       "'Employee name:ABC, Employee ID:12, Salary:13200'"
      ]
     },
     "execution_count": 5,
     "metadata": {},
     "output_type": "execute_result"
    }
   ],
   "source": [
    "e.display_details()"
   ]
  },
  {
   "cell_type": "markdown",
   "id": "77b380df-d199-44fa-934c-c0741cb9ebd5",
   "metadata": {},
   "source": [
    "Problem 3: Vehicle Rental Create a class representing a vehicle rental system. Implement methods to rent a vehicle, return a vehicle, and display available vehicles."
   ]
  },
  {
   "cell_type": "code",
   "execution_count": 7,
   "id": "0b4052e4-2f2f-4a49-834d-014b168d5c48",
   "metadata": {},
   "outputs": [],
   "source": [
    "class VehicleRental:\n",
    "    def __init__(self,price):\n",
    "        self.type=[]\n",
    "        self.price=price\n",
    "    def rentVehicle(self,type):\n",
    "        self.type.remove(type)\n",
    "    def returnVehicle(self,type):\n",
    "        self.type.append(type)\n",
    "    def display_available(self):\n",
    "        return self.type"
   ]
  },
  {
   "cell_type": "markdown",
   "id": "bf84bb61-abf2-4907-a16b-1331b2736216",
   "metadata": {},
   "source": [
    "Problem 4: Library Catalog Create classes representing a library and a book. Implement methods to add books to the library, borrow books, and display available books."
   ]
  },
  {
   "cell_type": "code",
   "execution_count": 8,
   "id": "8f0257ae-8980-47d8-a816-64a3d1b546ce",
   "metadata": {},
   "outputs": [],
   "source": [
    "class Library:\n",
    "    def __init__(self,title,author_name):\n",
    "        self.title=title\n",
    "        self.author_name=author_name\n",
    "    def add_books(self):\n",
    "        pass\n",
    "    def borrow_books(self):\n",
    "        pass\n",
    "    def available_books(self):\n",
    "        pass\n",
    "class Books(Library):\n",
    "    def __init__(self,title,author_name):\n",
    "        super().__init__(title,author_name)\n",
    "    def add_books(self,title,author_name):\n",
    "        self.title=title\n",
    "        self.author_name=author_name\n",
    "    def borrow_books(self,title,author_name):\n",
    "        self.title=None\n",
    "        self.author_name=None\n",
    "    def available_books(self):\n",
    "        return self.title,self.author_name"
   ]
  },
  {
   "cell_type": "markdown",
   "id": "9b37141b-0122-487d-aaae-724583705ba6",
   "metadata": {},
   "source": [
    "Problem 5: Product Inventory Create classes representing a product and an inventory system. Implement methods to add products to the inventory, update product quantity, and display available products."
   ]
  },
  {
   "cell_type": "code",
   "execution_count": 28,
   "id": "3e21ec01-7242-405e-aedc-b5c2d9c56daf",
   "metadata": {},
   "outputs": [],
   "source": [
    "class Product:\n",
    "    def __init__(self,products,quantity):\n",
    "        self.products=products\n",
    "        self.quantity=quantity\n",
    "    def add_products(self,product):\n",
    "        self.products.append(product)\n",
    "    def update_quantity(self,quantity):\n",
    "        self.quantity+=quantity\n",
    "    def available_products(self):\n",
    "        return self.products"
   ]
  },
  {
   "cell_type": "code",
   "execution_count": 29,
   "id": "c1cb1e88-5628-4c50-806f-1149779db191",
   "metadata": {},
   "outputs": [],
   "source": [
    "p=Product([\"Aloo\",\"Baigun\"],1200)"
   ]
  },
  {
   "cell_type": "code",
   "execution_count": 30,
   "id": "f212c859-5e3d-485e-af8e-820c07a47b81",
   "metadata": {},
   "outputs": [],
   "source": [
    "p.add_products(\"Gajar\")"
   ]
  },
  {
   "cell_type": "code",
   "execution_count": 31,
   "id": "54e8c0dd-7e6c-48c2-8e65-770d9cc368bd",
   "metadata": {},
   "outputs": [],
   "source": [
    "p.update_quantity(12)"
   ]
  },
  {
   "cell_type": "code",
   "execution_count": 32,
   "id": "5f4313fb-c1c2-417e-b846-8399a9ab0455",
   "metadata": {},
   "outputs": [
    {
     "data": {
      "text/plain": [
       "['Aloo', 'Baigun', 'Gajar']"
      ]
     },
     "execution_count": 32,
     "metadata": {},
     "output_type": "execute_result"
    }
   ],
   "source": [
    "p.available_products()"
   ]
  },
  {
   "cell_type": "markdown",
   "id": "2a28696d-265a-4ffb-9a13-527d1a7565d1",
   "metadata": {},
   "source": [
    "Problem 6: Shape Calculation Create a class representing a shape with attributes like length, width, and height. Implement methods to calculate the area and perimeter of the shape."
   ]
  },
  {
   "cell_type": "code",
   "execution_count": 33,
   "id": "bf91d380-9218-4b83-a257-31255b9108b3",
   "metadata": {},
   "outputs": [],
   "source": [
    "class Shape:\n",
    "    def __init__(self,length,width,height):\n",
    "        self.length=length\n",
    "        self.width=width\n",
    "        self.height=height\n",
    "    def area(self):\n",
    "        area=2*(self.length*self.height+self.length*self.width+self.height*self.width)\n",
    "        return f\"Area: {area}\"\n",
    "    def perimeter(self):\n",
    "        peri=4*(self.length+self.width+self.height)\n",
    "        return f\"Perimeter: {peri}\""
   ]
  },
  {
   "cell_type": "markdown",
   "id": "49f89382-594e-40f1-9240-ffaa546eb5aa",
   "metadata": {},
   "source": [
    "Problem 7: Student Management Create a class representing a student with attributes like student ID, name, and grades. Implement methods to calculate the average grade and display student details."
   ]
  },
  {
   "cell_type": "code",
   "execution_count": 34,
   "id": "40a87026-a417-4947-9b2d-55bc28b17938",
   "metadata": {},
   "outputs": [],
   "source": [
    "class Student:\n",
    "    def __init__(self,id,name,grades):\n",
    "        self.id=id\n",
    "        self.name=name\n",
    "        self.grades=grades\n",
    "    def average_grades(self):\n",
    "        for grade in self.grades:\n",
    "            grade+=grade\n",
    "        return grade/5\n",
    "    def details(self):\n",
    "        return f\"Student name:{self.name},ID:{self.id},Grades:{self.grades}\""
   ]
  },
  {
   "cell_type": "markdown",
   "id": "6a0f42fa-d294-4bf4-b302-2e6ebad436c9",
   "metadata": {},
   "source": [
    "Problem 8: Email Management Create a class representing an email with attributes like sender, recipient, and subject. Implement methods to send an email and display email details."
   ]
  },
  {
   "cell_type": "code",
   "execution_count": 35,
   "id": "3cde3a3e-3fba-4e09-9ba4-d86330eaec49",
   "metadata": {},
   "outputs": [],
   "source": [
    "class Email:\n",
    "    def __init__(self,sender,recipient,subject):\n",
    "        self.sender=sender\n",
    "        self.recipient=recipient\n",
    "        self.subject=subject\n",
    "    def send_email(self,subject):\n",
    "        return f\"Email send to {self.recipient} by {self.sender} of subject {subject}\"\n",
    "    def display_email(self):\n",
    "        return f\"{self.sender},{self.recipient},{self.subject}\""
   ]
  },
  {
   "cell_type": "markdown",
   "id": "653e13d7-72d3-4d75-9e4b-50709f1a66e9",
   "metadata": {},
   "source": [
    "Problem 9: Social Media Profile Create a class representing a social media profile with attributes like username and posts. Implement methods to add posts, display posts, and search for posts by keyword."
   ]
  },
  {
   "cell_type": "code",
   "execution_count": 36,
   "id": "560eaf39-f9b3-4e26-b9f9-8c9c8f77baf8",
   "metadata": {},
   "outputs": [],
   "source": [
    "class Profile:\n",
    "    def __init__(self,username,posts):\n",
    "        self.username=username\n",
    "        self.posts=posts\n",
    "    def add_posts(self,post):\n",
    "        self.posts.append(post)\n",
    "    def display_posts(self):\n",
    "        return self.posts\n",
    "    def search(self,name):\n",
    "        if name in self.posts:\n",
    "            return name\n",
    "        else:\n",
    "            return \"No results\""
   ]
  },
  {
   "cell_type": "markdown",
   "id": "0dad1ef5-c2e3-428d-a5ad-12d37818d1c2",
   "metadata": {},
   "source": [
    "Problem 10: ToDo List Create a class representing a ToDo list with attributes like tasks and due dates. Implement methods to add tasks, mark tasks as completed, and display pending tasks."
   ]
  },
  {
   "cell_type": "code",
   "execution_count": 37,
   "id": "2590512e-7a1d-4fad-87f4-5d4989250160",
   "metadata": {},
   "outputs": [],
   "source": [
    "class ToDo:\n",
    "    def __init__(self,tasks,due_dates):\n",
    "        self.tasks=tasks\n",
    "        self.due_dates=due_dates\n",
    "    def add_tasks(self,task,date):\n",
    "        self.tasks.append(task)\n",
    "        self.due_dates=date\n",
    "    def completed(self,task):\n",
    "        self.tasks.remove(task)\n",
    "    def pending(self):\n",
    "        return self.tasks"
   ]
  }
 ],
 "metadata": {
  "kernelspec": {
   "display_name": "Python 3 (ipykernel)",
   "language": "python",
   "name": "python3"
  },
  "language_info": {
   "codemirror_mode": {
    "name": "ipython",
    "version": 3
   },
   "file_extension": ".py",
   "mimetype": "text/x-python",
   "name": "python",
   "nbconvert_exporter": "python",
   "pygments_lexer": "ipython3",
   "version": "3.10.8"
  }
 },
 "nbformat": 4,
 "nbformat_minor": 5
}
